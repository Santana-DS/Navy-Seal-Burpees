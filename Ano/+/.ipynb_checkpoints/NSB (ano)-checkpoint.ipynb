{
 "cells": [
  {
   "cell_type": "markdown",
   "id": "34364d0a-a21c-4465-ab12-fae8c33e2f6c",
   "metadata": {},
   "source": [
    "# Navy Seal Burpees"
   ]
  },
  {
   "cell_type": "markdown",
   "id": "d5b7290f-a332-4739-a9dd-42c42af03f9e",
   "metadata": {},
   "source": [
    "## Progress on Track (ano)"
   ]
  },
  {
   "cell_type": "markdown",
   "id": "a940b392-aff0-45dc-ace5-6f92bbe37dd2",
   "metadata": {
    "jp-MarkdownHeadingCollapsed": true
   },
   "source": [
    "### Funções:"
   ]
  },
  {
   "cell_type": "markdown",
   "id": "3ec036bd-198d-4568-97e4-bfc917c07b3c",
   "metadata": {},
   "source": [
    "Importações e Variáveis Globais"
   ]
  },
  {
   "cell_type": "code",
   "execution_count": 1,
   "id": "2e07bc29-3c08-4d1f-bd6e-b7d303b5f043",
   "metadata": {},
   "outputs": [],
   "source": [
    "import os\n",
    "import shutil\n",
    "import calendar\n",
    "import pandas as pd\n",
    "import matplotlib.pyplot as plt\n",
    "from matplotlib.colors import Normalize\n",
    "from IPython.display import clear_output\n",
    "\n",
    "# Definir o ano atual\n",
    "ano = 'ano'\n",
    "\n",
    "# Definir o diretório do projeto manualmente ou com base no diretório atual\n",
    "diretorio_projeto = os.getcwd()\n",
    "\n",
    "# Caminhos relativos\n",
    "caminho_csv = os.path.join(diretorio_projeto, f'totais_mensais_{ano}.csv')\n",
    "caminho_backup = os.path.join(diretorio_projeto, '..', '..', 'backup', f'totais_mensais_{ano}_backup.csv')\n",
    "\n",
    "# Dicionário global para armazenar os totais mensais\n",
    "totais_mensais = {f'{ano}-{mes:02d}': 0 for mes in range(1, 13)}\n"
   ]
  },
  {
   "cell_type": "markdown",
   "id": "f6690918-7ad8-4c96-ae53-f5bbf83772c0",
   "metadata": {},
   "source": [
    "Função para Criar DataFrame Mensal"
   ]
  },
  {
   "cell_type": "code",
   "execution_count": 2,
   "id": "a4badf60-8667-44d8-9b0b-4e89746bb8cd",
   "metadata": {},
   "outputs": [],
   "source": [
    "def criar_df_mensal(mes, ano):\n",
    "    \"\"\"\n",
    "    Cria um DataFrame para o mês e ano fornecidos.\n",
    "    \"\"\"\n",
    "    num_dias = calendar.monthrange(int(ano), mes)[1]\n",
    "    dias = pd.date_range(start=f'{ano}-{mes:02d}-01', periods=num_dias, freq='D')\n",
    "    return pd.DataFrame(index=dias, columns=['NSB'])\n"
   ]
  },
  {
   "cell_type": "markdown",
   "id": "d19159c6-d079-4178-be5f-8e595282ae29",
   "metadata": {},
   "source": [
    "Função para Coletar Dados"
   ]
  },
  {
   "cell_type": "code",
   "execution_count": 3,
   "id": "986dddaf-5051-42c6-918e-5729e90bc4c9",
   "metadata": {},
   "outputs": [],
   "source": [
    "def coletar_dados(mes, ano):\n",
    "    \"\"\"\n",
    "    Coleta dados de NSB para o mês e ano fornecidos, exibindo os valores já existentes (se houver).\n",
    "    \"\"\"\n",
    "    df = criar_df_mensal(mes, ano)\n",
    "    num_dias = len(df)\n",
    "    \n",
    "    # Carregar os dados existentes do arquivo CSV diário\n",
    "    nome_arquivo = f'nsb_diario_{ano}.csv'\n",
    "    caminho_arquivo = os.path.join(diretorio_projeto, nome_arquivo)\n",
    "    if os.path.exists(caminho_arquivo):\n",
    "        df_existente = pd.read_csv(caminho_arquivo, parse_dates=['Data'], index_col='Data')\n",
    "        df_existente_mes = df_existente[df_existente.index.month == mes]\n",
    "        for dia in range(1, num_dias + 1):\n",
    "            data_dia = f'{ano}-{mes:02d}-{dia:02d}'\n",
    "            if data_dia in df_existente_mes.index.strftime('%Y-%m-%d').to_list():\n",
    "                df.at[pd.Timestamp(data_dia), 'NSB'] = df_existente_mes.at[pd.Timestamp(data_dia), 'NSB']\n",
    "\n",
    "    dados_nsbs = []\n",
    "\n",
    "    for dia in range(1, num_dias + 1):\n",
    "        while True:\n",
    "            try:\n",
    "                data_dia = f'{ano}-{mes:02d}-{dia:02d}'\n",
    "                valor_existente = df.at[pd.Timestamp(data_dia), 'NSB']\n",
    "                if pd.isna(valor_existente):\n",
    "                    valor_existente = 0\n",
    "                sugestao = f\"[Atual: {valor_existente}]\" if valor_existente else \"\"\n",
    "                \n",
    "                valor = input(f\"Digite o número de NSBs para o dia {dia} {sugestao} (ou pressione Enter para manter {valor_existente}): \").strip()\n",
    "                if valor == '':\n",
    "                    valor = valor_existente\n",
    "                else:\n",
    "                    valor = int(valor)\n",
    "                if valor < 0:\n",
    "                    raise ValueError(\"O valor não pode ser negativo.\")\n",
    "                dados_nsbs.append(valor)\n",
    "                break\n",
    "            except ValueError as e:\n",
    "                print(f\"Entrada inválida. {e}. Por favor, digite um número inteiro não negativo.\")\n",
    "    \n",
    "    return df, dados_nsbs\n"
   ]
  },
  {
   "cell_type": "markdown",
   "id": "586cddae-86ec-4868-9977-6e8fb4755673",
   "metadata": {},
   "source": [
    "Função para Revisar Dados"
   ]
  },
  {
   "cell_type": "code",
   "execution_count": 4,
   "id": "d3d26dac-9dc1-4633-b355-4162624986f9",
   "metadata": {},
   "outputs": [],
   "source": [
    "def revisar_dados(df, dados_nsbs):\n",
    "    \"\"\"\n",
    "    Permite ao usuário revisar e corrigir os dados inseridos.\n",
    "    \"\"\"\n",
    "    while True:\n",
    "        revisar_dados = input(\"Deseja alterar algum valor? [s/n] (Pressione Enter para continuar): \").strip().lower()\n",
    "        \n",
    "        if revisar_dados == 's':\n",
    "            print(\"\\nDados Inseridos:\")\n",
    "            for dia, valor in enumerate(dados_nsbs, start=1):\n",
    "                print(f\"Dia {dia}: {valor}\")\n",
    "            \n",
    "            while True:\n",
    "                try:\n",
    "                    revisar_dia = input(\"\\nDigite o número do dia para corrigir (ou pressione Enter para continuar): \").strip()\n",
    "                    if revisar_dia == '':\n",
    "                        break\n",
    "                    dia_corrigir = int(revisar_dia)\n",
    "                    if 1 <= dia_corrigir <= len(dados_nsbs):\n",
    "                        novo_valor = input(f\"Digite o novo número de NSBs para o dia {dia_corrigir}: \").strip()\n",
    "                        if novo_valor == '':\n",
    "                            novo_valor = dados_nsbs[dia_corrigir - 1]\n",
    "                        else:\n",
    "                            novo_valor = int(novo_valor)\n",
    "                        if novo_valor < 0:\n",
    "                            raise ValueError(\"O valor não pode ser negativo.\")\n",
    "                        dados_nsbs[dia_corrigir - 1] = novo_valor\n",
    "                        df['NSB'] = dados_nsbs\n",
    "                    else:\n",
    "                        print(\"Número do dia inválido.\")\n",
    "                except ValueError as e:\n",
    "                    print(f\"Entrada inválida. {e}. Por favor, digite um número inteiro.\")\n",
    "        elif revisar_dados == '' or revisar_dados == 'n':\n",
    "            break\n",
    "        else:\n",
    "            print(\"Resposta inválida. Por favor, digite 's' para sim ou pressione Enter para continuar.\")\n"
   ]
  },
  {
   "cell_type": "markdown",
   "id": "4048ef67-e841-4c18-99c5-6cd0e6b2a294",
   "metadata": {},
   "source": [
    "Função para Adicionar Dados e Plotar"
   ]
  },
  {
   "cell_type": "code",
   "execution_count": 5,
   "id": "9d002e5e-d474-428c-a81c-314209ee538d",
   "metadata": {},
   "outputs": [],
   "source": [
    "def adicionar_dados_e_plotar(mes, ano):\n",
    "    \"\"\"\n",
    "    Adiciona os dados de NSB ao DataFrame e gera um gráfico.\n",
    "    \"\"\"\n",
    "    df, dados_nsbs = coletar_dados(mes, ano)\n",
    "    df['NSB'] = dados_nsbs\n",
    "    revisar_dados(df, dados_nsbs)\n",
    "    \n",
    "    total_nsb_mes = df['NSB'].sum()\n",
    "    \n",
    "    # Limpar a saída anterior\n",
    "    clear_output(wait=True)\n",
    "    \n",
    "    # Definir colormap\n",
    "    cmap = plt.get_cmap('nipy_spectral')\n",
    "\n",
    "    norm = Normalize(vmin=0, vmax=550)\n",
    "    colors = cmap(norm(df['NSB']))\n",
    "    \n",
    "    plt.figure(figsize=(14, 7))\n",
    "    plt.bar(df.index.strftime('%d/%b'), df['NSB'], color=colors)\n",
    "    plt.title(f'{mes:02d}/{ano} - Total NSB: {total_nsb_mes}', fontsize=16, weight='bold')\n",
    "    plt.xlabel('Dia/Mês', fontsize=14)\n",
    "    plt.ylabel('Navy Seal Burpees', fontsize=14)\n",
    "    plt.xticks(rotation=45, fontsize=12)\n",
    "    plt.yticks(fontsize=12)\n",
    "    plt.grid(axis='y', linestyle='--', linewidth=0.7)\n",
    "    plt.tight_layout()\n",
    "    \n",
    "    plt.show()\n",
    "    \n",
    "    # Atualizar totais mensais\n",
    "    chave = f'{ano}-{mes:02d}'\n",
    "    totais_mensais[chave] = total_nsb_mes\n",
    "\n",
    "    # Salvar o CSV atualizado\n",
    "    salvar_totais_csv(caminho_csv, totais_mensais)\n",
    "\n",
    "    # Fazer backup do CSV\n",
    "    fazer_backup_csv(caminho_csv, caminho_backup)\n",
    "    \n",
    "    # Preparar dados diários para salvar\n",
    "    df_diario = criar_df_mensal(mes, ano)\n",
    "    df_diario['NSB'] = dados_nsbs\n",
    "    \n",
    "    # Adicionar coluna 'Data' ao DataFrame\n",
    "    df_diario.reset_index(inplace=True)\n",
    "    df_diario.rename(columns={'index': 'Data'}, inplace=True)\n",
    "    \n",
    "    # Salvar os dados diários automaticamente\n",
    "    salvar_dados_diarios_csv(df_diario, mes, ano)\n",
    "\n",
    "    # Atualizar o arquivo de frequência automaticamente\n",
    "    atualizar_frequencia(ano)\n"
   ]
  },
  {
   "cell_type": "markdown",
   "id": "25e004d2-d9d0-4872-bd59-1af50b682a00",
   "metadata": {},
   "source": [
    "Função para Salvar Totais Mensais em CSV"
   ]
  },
  {
   "cell_type": "code",
   "execution_count": 6,
   "id": "7d3858fc-3452-4ea3-9b59-b47133db7cab",
   "metadata": {},
   "outputs": [],
   "source": [
    "def salvar_totais_csv(caminho, totais):\n",
    "    \"\"\"\n",
    "    Salva os totais mensais em um arquivo CSV.\n",
    "    \"\"\"\n",
    "    df_totais = pd.DataFrame(list(totais.items()), columns=['Mes', 'Total'])\n",
    "    os.makedirs(os.path.dirname(caminho), exist_ok=True)  # Certifica-se de que o diretório existe\n",
    "    df_totais.to_csv(caminho, index=False)\n"
   ]
  },
  {
   "cell_type": "markdown",
   "id": "3ae3c094-fa3f-4154-b7e5-ebe8d56fb7b3",
   "metadata": {},
   "source": [
    "Função para Fazer Backup do CSV"
   ]
  },
  {
   "cell_type": "code",
   "execution_count": 7,
   "id": "c7f01f68-8723-4032-a42a-0e573c095ff7",
   "metadata": {},
   "outputs": [],
   "source": [
    "def fazer_backup_csv(caminho_origem, caminho_destino):\n",
    "    \"\"\"\n",
    "    Faz uma cópia de backup do arquivo CSV.\n",
    "    \"\"\"\n",
    "    os.makedirs(os.path.dirname(caminho_destino), exist_ok=True)  # Certifica-se de que o diretório existe\n",
    "    shutil.copyfile(caminho_origem, caminho_destino)\n"
   ]
  },
  {
   "cell_type": "markdown",
   "id": "81ffc492-ddb2-4680-9708-de3625077b40",
   "metadata": {},
   "source": [
    "Função para Salvar Dados Diários em CSV"
   ]
  },
  {
   "cell_type": "code",
   "execution_count": 8,
   "id": "0163bd20-967d-436d-b3ec-e0bd7d5835ff",
   "metadata": {},
   "outputs": [],
   "source": [
    "def salvar_dados_diarios_csv(df, mes, ano):\n",
    "    # Nome do arquivo com base no ano\n",
    "    nome_arquivo = f'nsb_diario_{ano}.csv'\n",
    "    caminho_arquivo = os.path.join(diretorio_projeto, nome_arquivo)\n",
    "\n",
    "    # Garantir que o DataFrame contém a coluna 'Data' e a coluna 'NSB'\n",
    "    if 'Data' not in df.columns:\n",
    "        raise ValueError(\"O DataFrame fornecido deve conter a coluna 'Data'.\")\n",
    "    if 'NSB' not in df.columns:\n",
    "        raise ValueError(\"O DataFrame fornecido deve conter a coluna 'NSB'.\")\n",
    "\n",
    "    # Criar um DataFrame com todos os dias do ano se o arquivo não existir\n",
    "    if not os.path.exists(caminho_arquivo):\n",
    "        datas = pd.date_range(start=f'{ano}-01-01', end=f'{ano}-12-31', freq='D')\n",
    "        df_completo = pd.DataFrame({'Data': datas, 'NSB': 0})\n",
    "        df_completo.set_index('Data', inplace=True)\n",
    "        df_completo.to_csv(caminho_arquivo)\n",
    "\n",
    "    # Carregar os dados existentes\n",
    "    df_existente = pd.read_csv(caminho_arquivo, parse_dates=['Data'], index_col='Data')\n",
    "\n",
    "    # Configurar o índice do DataFrame fornecido como 'Data'\n",
    "    df.set_index('Data', inplace=True)\n",
    "\n",
    "    # Atualizar os dados existentes com os novos valores\n",
    "    df_existente.update(df)\n",
    "\n",
    "    # Salvar o DataFrame atualizado em CSV\n",
    "    df_existente.to_csv(caminho_arquivo, index_label='Data', columns=['NSB'])\n"
   ]
  },
  {
   "cell_type": "markdown",
   "id": "cdabcfce-4c8d-44f5-bfdd-4789994c501b",
   "metadata": {},
   "source": [
    "Função para Carregar Totais Mensais do CSV"
   ]
  },
  {
   "cell_type": "code",
   "execution_count": 9,
   "id": "f1c98192-026f-4637-a6c1-3b2ffe2e8e6c",
   "metadata": {},
   "outputs": [],
   "source": [
    "def carregar_totais_csv(caminho):\n",
    "    \"\"\"\n",
    "    Carrega os totais mensais de um arquivo CSV, se existir.\n",
    "    \"\"\"\n",
    "    if os.path.exists(caminho):\n",
    "        df_totais = pd.read_csv(caminho)\n",
    "        totais = df_totais.set_index('Mes')['Total'].to_dict()\n",
    "        return totais\n",
    "    else:\n",
    "        return None\n",
    "\n",
    "# Carregar totais do CSV ao iniciar\n",
    "totais_carregados = carregar_totais_csv(caminho_csv)\n",
    "if totais_carregados:\n",
    "    totais_mensais.update(totais_carregados)\n"
   ]
  },
  {
   "cell_type": "markdown",
   "id": "a9da237a-6b3e-41a7-88a5-84e88abeabad",
   "metadata": {},
   "source": [
    "Função para Calcular Totais Mensais"
   ]
  },
  {
   "cell_type": "code",
   "execution_count": 10,
   "id": "e21ad489-18ea-4ab1-bb08-4733ac672cdb",
   "metadata": {},
   "outputs": [],
   "source": [
    "def calcular_totais_mensais():\n",
    "    \"\"\"\n",
    "    Retorna um dicionário com o total de NSBs para cada mês.\n",
    "    \"\"\"\n",
    "    return totais_mensais\n"
   ]
  },
  {
   "cell_type": "markdown",
   "id": "3be64d3e-7e20-4eb8-894b-c1298c511b69",
   "metadata": {},
   "source": [
    "Função para Imprimir Totais Mensais"
   ]
  },
  {
   "cell_type": "code",
   "execution_count": 11,
   "id": "ebc59481-54bb-40d7-8d80-4fe914a00f53",
   "metadata": {},
   "outputs": [],
   "source": [
    "def print_totais_mensais():\n",
    "    totais = calcular_totais_mensais()\n",
    "    output_str = \"    \"\n",
    "    for count, (mes, total) in enumerate(totais.items(), 1):\n",
    "        output_str += f\"'{mes}': {total}, \"\n",
    "        if count % 6 == 0 and count != len(totais):\n",
    "            output_str = output_str.rstrip(\", \") + \",\\n    \"\n",
    "    output_str = output_str.rstrip(\", \") + \",\"\n",
    "    print(output_str)\n",
    "\n",
    "# print_totais_mensais()\n"
   ]
  },
  {
   "cell_type": "markdown",
   "id": "ec26e80e-ebc3-4f2d-9005-4ea6a75db054",
   "metadata": {},
   "source": [
    "Função para Plotar o Gráfico Total de NSBs"
   ]
  },
  {
   "cell_type": "code",
   "execution_count": 12,
   "id": "366d9793-a086-405f-a18e-fbcd6b78a675",
   "metadata": {},
   "outputs": [],
   "source": [
    "def plotar_grafico_total(anos=None):\n",
    "    if anos == [\"todos\"]:\n",
    "        anos = sorted({mes[:4] for mes in totais_mensais.keys()}, reverse=True)\n",
    "    \n",
    "    meses = [f'{mes:02d}' for mes in range(1, 13)]\n",
    "    plt.figure(figsize=(12, 6))\n",
    "    \n",
    "    for ano in anos:\n",
    "        totais_ano = [totais_mensais.get(f'{ano}-{mes}', 0) for mes in meses]\n",
    "        total_ano = sum(totais_ano)\n",
    "        plt.plot(meses, totais_ano, marker='o', label=f'{ano} ({total_ano})', linewidth=2, markersize=6)\n",
    "        \n",
    "        for mes, total in zip(meses, totais_ano):\n",
    "            plt.text(mes, total, f'{total}', ha='center', va='bottom', fontsize=10)\n",
    "    \n",
    "    plt.title(f'Navy Seal Burpees - {ano}', fontsize=16, weight='bold')\n",
    "    plt.xlabel('Mês', fontsize=14)\n",
    "    plt.legend(title='', fontsize=12)\n",
    "    plt.grid(axis='y', linestyle='--', linewidth=0.7)\n",
    "    plt.tight_layout()\n",
    "    plt.show()\n"
   ]
  },
  {
   "cell_type": "markdown",
   "id": "2c1610dd-b0b8-4b6c-bf9a-cb3c5fb7478f",
   "metadata": {},
   "source": [
    "Função para Contar Frequência de NSBs"
   ]
  },
  {
   "cell_type": "code",
   "execution_count": 15,
   "id": "981c7eba-0730-4b96-b317-61d768d30429",
   "metadata": {},
   "outputs": [],
   "source": [
    "def contar_frequencia(ano):\n",
    "    nome_arquivo = f'nsb_diario_{ano}.csv'\n",
    "    caminho_arquivo = os.path.join(diretorio_projeto, nome_arquivo)\n",
    "    \n",
    "    if not os.path.exists(caminho_arquivo):\n",
    "        print(f\"O arquivo {nome_arquivo} não foi encontrado.\")\n",
    "        return\n",
    "    \n",
    "    # Carregar os dados do CSV diário\n",
    "    df = pd.read_csv(caminho_arquivo, parse_dates=['Data'], index_col='Data')\n",
    "    \n",
    "    # Contar a frequência de cada quantidade de NSBs\n",
    "    frequencia = df['NSB'].value_counts().sort_index()\n",
    "\n",
    "    # Filtrar quantidades diferentes de zero para o cálculo de porcentagens\n",
    "    frequencia_sem_zero = frequencia[frequencia.index != 0]\n",
    "\n",
    "    # Calcular o total geral para todas as quantidades, incluindo zero\n",
    "    total_geral = frequencia.sum()\n",
    "\n",
    "    # Calcular o total apenas para quantidades não-zero\n",
    "    total_sem_zero = frequencia_sem_zero.sum()\n",
    "\n",
    "    # Calcular a porcentagem para a quantidade 0 sobre o total geral\n",
    "    porcentagem_zero = (frequencia[0] / total_geral) * 100 if 0 in frequencia.index else 0\n",
    "\n",
    "    # Calcular a porcentagem para as quantidades não-zero\n",
    "    porcentagem_nao_zero = (frequencia_sem_zero / total_sem_zero) * 100\n",
    "\n",
    "    # Converter a Series para um DataFrame para manter os nomes das colunas desejadas\n",
    "    frequencia_df = pd.DataFrame({\n",
    "        'Quantidade': frequencia.index,\n",
    "        'Frequência': frequencia.values\n",
    "    })\n",
    "\n",
    "    # Salvar a frequência em um arquivo CSV\n",
    "    nome_arquivo_frequencia = f'frequencia_{ano}.csv'\n",
    "    caminho_frequencia = os.path.join(diretorio_projeto, nome_arquivo_frequencia)\n",
    "    frequencia_df.to_csv(caminho_frequencia, index=False)\n",
    "\n",
    "    # Salvar uma cópia de backup do arquivo de frequência\n",
    "    caminho_backup = os.path.join(diretorio_projeto, '..', '..', 'backup', f'frequencia_{ano}_backup.csv')\n",
    "    os.makedirs(os.path.dirname(caminho_backup), exist_ok=True)\n",
    "    frequencia_df.to_csv(caminho_backup, index=False)\n",
    "\n",
    "    # Preparar o dicionário de porcentagens\n",
    "    porcentagens = {quantidade: 0 for quantidade in frequencia.index}\n",
    "    \n",
    "    # Atribuir porcentagens para quantidades não-zero\n",
    "    for quantidade in porcentagem_nao_zero.index:\n",
    "        porcentagens[quantidade] = porcentagem_nao_zero[quantidade]\n",
    "\n",
    "    # Atribuir porcentagem para a quantidade 0\n",
    "    if 0 in porcentagens:\n",
    "        porcentagens[0] = porcentagem_zero\n",
    "\n",
    "    # Exibir o resultado com formatação melhorada\n",
    "    print(f\"{'Quantidade':<12} {'Frequência':<12} {'Porcentagem':<12}\")\n",
    "    print(\"=\" * 36)\n",
    "    for quantidade, freq in frequencia.items():\n",
    "        print(f\"{quantidade:<12} {freq:<12} {porcentagens[quantidade]:>9.2f}%\")\n",
    "    print(\"=\" * 36)\n"
   ]
  },
  {
   "cell_type": "markdown",
   "id": "fc74ace4-46a6-4b6c-9d62-1908cf8132fe",
   "metadata": {},
   "source": [
    "Função para Atualizar Frequência"
   ]
  },
  {
   "cell_type": "code",
   "execution_count": 16,
   "id": "e5aaf8d0-862c-4955-bf3f-819b09ee23f8",
   "metadata": {},
   "outputs": [],
   "source": [
    "def atualizar_frequencia(ano):\n",
    "    nome_arquivo = f'nsb_diario_{ano}.csv'\n",
    "    caminho_arquivo = os.path.join(diretorio_projeto, nome_arquivo)\n",
    "    \n",
    "    if not os.path.exists(caminho_arquivo):\n",
    "        print(f\"O arquivo {nome_arquivo} não foi encontrado.\")\n",
    "        return\n",
    "    \n",
    "    # Carregar os dados do CSV diário\n",
    "    df = pd.read_csv(caminho_arquivo, parse_dates=['Data'], index_col='Data')\n",
    "    \n",
    "    # Contar a frequência de cada quantidade de NSBs\n",
    "    frequencia = df['NSB'].value_counts().sort_index()\n",
    "    \n",
    "    # Criar o DataFrame da frequência\n",
    "    df_frequencia = frequencia.reset_index()\n",
    "    df_frequencia.columns = ['Quantidade', 'Frequência']\n",
    "    \n",
    "    # Salvar o DataFrame de frequência em CSV\n",
    "    nome_arquivo_frequencia = f'frequencia_{ano}.csv'\n",
    "    caminho_arquivo_frequencia = os.path.join(diretorio_projeto, nome_arquivo_frequencia)\n",
    "    df_frequencia.to_csv(caminho_arquivo_frequencia, index=False)\n",
    "    \n",
    "    # Salvar o arquivo de backup da frequência\n",
    "    caminho_backup_frequencia = os.path.join(diretorio_projeto, '..', '..', 'backup', f'frequencia_{ano}_backup.csv')\n",
    "    shutil.copy(caminho_arquivo_frequencia, caminho_backup_frequencia)\n"
   ]
  },
  {
   "cell_type": "markdown",
   "id": "e5ab1e1d-1f4d-46d7-9805-a427be982654",
   "metadata": {},
   "source": [
    "### per month"
   ]
  },
  {
   "cell_type": "code",
   "execution_count": null,
   "id": "51365955-f6e5-4d7d-8de3-663c6d2abec9",
   "metadata": {},
   "outputs": [],
   "source": [
    "adicionar_dados_e_plotar(1, ano)"
   ]
  },
  {
   "cell_type": "code",
   "execution_count": null,
   "id": "a9794467-eca4-435d-9ab1-b0f5d0ecf048",
   "metadata": {},
   "outputs": [],
   "source": [
    "adicionar_dados_e_plotar(2, ano)"
   ]
  },
  {
   "cell_type": "code",
   "execution_count": null,
   "id": "9c59005a-3653-448a-9e92-34bfe460f6b9",
   "metadata": {},
   "outputs": [],
   "source": [
    "adicionar_dados_e_plotar(3, ano)"
   ]
  },
  {
   "cell_type": "code",
   "execution_count": null,
   "id": "7d7c7a4c-0111-40fe-a310-7b55dcd575ee",
   "metadata": {},
   "outputs": [],
   "source": [
    "adicionar_dados_e_plotar(4, ano) "
   ]
  },
  {
   "cell_type": "code",
   "execution_count": null,
   "id": "a40a1283-5cdf-4767-aa96-a83cd7b41ac6",
   "metadata": {},
   "outputs": [],
   "source": [
    "adicionar_dados_e_plotar(5, ano) "
   ]
  },
  {
   "cell_type": "code",
   "execution_count": null,
   "id": "e2293c8f-22ec-4551-96b7-06d7c8c70d8c",
   "metadata": {},
   "outputs": [],
   "source": [
    "adicionar_dados_e_plotar(6, ano) "
   ]
  },
  {
   "cell_type": "code",
   "execution_count": null,
   "id": "9c22a63c-fabf-4850-8627-898d4438e2ca",
   "metadata": {},
   "outputs": [],
   "source": [
    "adicionar_dados_e_plotar(7, ano) "
   ]
  },
  {
   "cell_type": "code",
   "execution_count": null,
   "id": "2a8c08b3-b0f3-441e-a670-5926484ac7a8",
   "metadata": {},
   "outputs": [],
   "source": [
    "adicionar_dados_e_plotar(8, ano) "
   ]
  },
  {
   "cell_type": "code",
   "execution_count": null,
   "id": "7abbeba4-d669-4935-abf5-5cb9c3af7028",
   "metadata": {},
   "outputs": [],
   "source": [
    "adicionar_dados_e_plotar(9, ano) "
   ]
  },
  {
   "cell_type": "code",
   "execution_count": null,
   "id": "e4a3709c-739a-4019-ad1f-31c12f7d4bca",
   "metadata": {},
   "outputs": [],
   "source": [
    "adicionar_dados_e_plotar(10, ano)"
   ]
  },
  {
   "cell_type": "code",
   "execution_count": null,
   "id": "dc78a079-9661-41d4-8232-e9d0e0da8c3b",
   "metadata": {},
   "outputs": [],
   "source": [
    "adicionar_dados_e_plotar(11, ano)"
   ]
  },
  {
   "cell_type": "code",
   "execution_count": null,
   "id": "28f3dc11-2932-4164-b6fb-d74b456522b4",
   "metadata": {},
   "outputs": [],
   "source": [
    "adicionar_dados_e_plotar(12, ano)"
   ]
  },
  {
   "cell_type": "code",
   "execution_count": null,
   "id": "e726c141-e356-432b-b8aa-95afc195d3fe",
   "metadata": {},
   "outputs": [],
   "source": [
    "plotar_grafico_total(anos=[ano])"
   ]
  },
  {
   "cell_type": "code",
   "execution_count": null,
   "id": "3eaa0681-91c5-4d98-8d10-d11500591940",
   "metadata": {},
   "outputs": [],
   "source": [
    "contar_frequencia(ano)"
   ]
  }
 ],
 "metadata": {
  "kernelspec": {
   "display_name": "Python 3 (ipykernel)",
   "language": "python",
   "name": "python3"
  },
  "language_info": {
   "codemirror_mode": {
    "name": "ipython",
    "version": 3
   },
   "file_extension": ".py",
   "mimetype": "text/x-python",
   "name": "python",
   "nbconvert_exporter": "python",
   "pygments_lexer": "ipython3",
   "version": "3.12.5"
  }
 },
 "nbformat": 4,
 "nbformat_minor": 5
}
